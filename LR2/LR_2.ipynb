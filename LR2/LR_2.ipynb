{
 "cells": [
  {
   "cell_type": "code",
   "execution_count": 1,
   "metadata": {},
   "outputs": [],
   "source": [
    "import os\n",
    "import datetime\n",
    "import csv\n",
    "import subprocess"
   ]
  },
  {
   "cell_type": "code",
   "execution_count": 2,
   "metadata": {},
   "outputs": [
    {
     "name": "stdout",
     "output_type": "stream",
     "text": [
      "2021-03-12 20:23:26.253861 <class 'datetime.datetime'>\n"
     ]
    }
   ],
   "source": [
    "# Code cell 3\n",
    "date_time = datetime.datetime.now()\n",
    "print(date_time, type(date_time))"
   ]
  },
  {
   "cell_type": "code",
   "execution_count": 3,
   "metadata": {},
   "outputs": [
    {
     "data": {
      "text/plain": [
       "'Fri, 12 Mar 2021 20:23:26'"
      ]
     },
     "execution_count": 3,
     "metadata": {},
     "output_type": "execute_result"
    }
   ],
   "source": [
    "# Code cell 4\n",
    "date_time.strftime('%a, %d %b %Y %H:%M:%S')"
   ]
  },
  {
   "cell_type": "code",
   "execution_count": 4,
   "metadata": {},
   "outputs": [
    {
     "name": "stdout",
     "output_type": "stream",
     "text": [
      "2021-03-12 20:23:26\n"
     ]
    }
   ],
   "source": [
    "#generate a timestamp and parse it into a string with the following format: YYYY-MM-DD HH:MM:SS.\n",
    "b = datetime.datetime.now().strftime(\"%Y-%m-%d %H:%M:%S\")\n",
    "print(b)"
   ]
  },
  {
   "cell_type": "code",
   "execution_count": 5,
   "metadata": {},
   "outputs": [],
   "source": [
    "# This string contains the command line to interface with speedtest.net\n",
    "speedtest_cmd = \"speedtest-cli --simple\"\n",
    "# Execute the process\n",
    "process = subprocess.Popen(speedtest_cmd.split(), stdout=subprocess.PIPE)\n",
    "# Collect the command output\n",
    "process_output = process.communicate()[0]"
   ]
  },
  {
   "cell_type": "code",
   "execution_count": 6,
   "metadata": {},
   "outputs": [
    {
     "name": "stdout",
     "output_type": "stream",
     "text": [
      "b'Ping: 6.438 ms\\r\\nDownload: 293.89 Mbit/s\\r\\nUpload: 195.06 Mbit/s\\r\\n' <class 'bytes'>\n"
     ]
    }
   ],
   "source": [
    "print(process_output, type(process_output))"
   ]
  },
  {
   "cell_type": "code",
   "execution_count": 7,
   "metadata": {},
   "outputs": [
    {
     "name": "stdout",
     "output_type": "stream",
     "text": [
      "[b'Ping:', b'6.438', b'ms', b'Download:', b'293.89', b'Mbit/s', b'Upload:', b'195.06', b'Mbit/s', '2021-03-12 20:23:45'] <class 'list'>\n"
     ]
    }
   ],
   "source": [
    "# Store the time at which the speedtest was executed\n",
    "date_time = datetime.datetime.now().strftime(\"%Y-%m-%d %H:%M:%S\")\n",
    "process_output = process_output.split()\n",
    "process_output.append(date_time)\n",
    "print(process_output, type(process_output))"
   ]
  },
  {
   "cell_type": "code",
   "execution_count": 8,
   "metadata": {},
   "outputs": [
    {
     "name": "stdout",
     "output_type": "stream",
     "text": [
      "[b'Ping:', b'7.317', b'ms', b'Download:', b'79.68', b'Mbit/s', b'Upload:', b'130.68', b'Mbit/s', '2021-03-12 20:23:45'] <class 'list'>\n"
     ]
    }
   ],
   "source": [
    "def speedtest():\n",
    "    # We need to store the time at which the speedtest was executed\n",
    "    date_time = datetime.datetime.now().strftime(\"%Y-%m-%d %H:%M:%S\")\n",
    "    # This is a string that contains what we would write on the command line \n",
    "    #to interface with speedtest.net\n",
    "    speedtest_cmd = \"speedtest-cli --simple\"\n",
    "    # We now execute the process: \n",
    "    process = subprocess.Popen(speedtest_cmd.split(), stdout=subprocess.PIPE)\n",
    "    process_output = process.communicate()[0]\n",
    "    process_output = process_output.split()\n",
    "    # and we add the date and time \n",
    "    process_output.append(date_time)\n",
    "    return process_output\n",
    "\n",
    "print(speedtest(), type(process_output))\n",
    "#Функция вызывает команду для speedtest, результат записывается и к нему в конце добавляется временная метка."
   ]
  },
  {
   "cell_type": "code",
   "execution_count": 9,
   "metadata": {},
   "outputs": [],
   "source": [
    "#Create a file named test.txt in the /tmp directory and write \"test_msg\" in the file.\n",
    "p = \"./tmp/test.txt\"\n",
    "with open(p,'w') as f:\n",
    "    f.write('test_msg')"
   ]
  },
  {
   "cell_type": "code",
   "execution_count": 10,
   "metadata": {},
   "outputs": [
    {
     "name": "stdout",
     "output_type": "stream",
     "text": [
      "test_msg\n"
     ]
    }
   ],
   "source": [
    "with open(p,'r') as f:\n",
    "   str = f.read()\n",
    "print(str)"
   ]
  },
  {
   "cell_type": "code",
   "execution_count": 11,
   "metadata": {},
   "outputs": [],
   "source": [
    "# function to save data to csv\n",
    "def save_to_csv(data, filename):\n",
    "    try:\n",
    "        # If the file exists, we want to append a new line to it, with the \n",
    "        #results of the current experiment\n",
    "        with open(filename + '.csv', 'a') as f:\n",
    "            wr = csv.writer(f)\n",
    "            wr.writerow(data)\n",
    "    except:\n",
    "        # If it does not exist, create the file first\n",
    "        with open(filename + '.csv', 'w') as f:\n",
    "            # Hint: This is similar to appending new lines to a file.\n",
    "            # Create a csv writer object\n",
    "            file_writer = csv.writer(f)\n",
    "            file_writer.writerow(data)"
   ]
  },
  {
   "cell_type": "code",
   "execution_count": 12,
   "metadata": {},
   "outputs": [],
   "source": [
    "def print_from_csv(filename): \n",
    "    with open(filename + '.csv', 'r') as f:\n",
    "            re = csv.reader(f)\n",
    "            # 1. Loop over the rows\n",
    "            # 2. print\n",
    "            for row in re:\n",
    "                print (', '.join(row))"
   ]
  },
  {
   "cell_type": "code",
   "execution_count": 13,
   "metadata": {},
   "outputs": [
    {
     "name": "stdout",
     "output_type": "stream",
     "text": [
      "Test number 0\n",
      "[b'Ping:', b'8.129', b'ms', b'Download:', b'101.38', b'Mbit/s', b'Upload:', b'0.00', b'Mbit/s', '2021-03-12 20:24:10']\n",
      "Test number 1\n",
      "['2021-03-12 20:24:41']\n",
      "Test number 2\n",
      "[b'Ping:', b'7.93', b'ms', b'Download:', b'275.91', b'Mbit/s', b'Upload:', b'215.11', b'Mbit/s', '2021-03-12 20:24:53']\n",
      "Test number 3\n",
      "[b'Ping:', b'6.009', b'ms', b'Download:', b'390.30', b'Mbit/s', b'Upload:', b'219.69', b'Mbit/s', '2021-03-12 20:25:11']\n",
      "Test number 4\n",
      "[b'Ping:', b'7.555', b'ms', b'Download:', b'343.87', b'Mbit/s', b'Upload:', b'128.83', b'Mbit/s', '2021-03-12 20:25:28']\n"
     ]
    }
   ],
   "source": [
    "for i in range(5):\n",
    "    speedtest_output = speedtest()\n",
    "    print('Test number {}'.format(i))\n",
    "    print(speedtest_output)\n",
    "    save_to_csv(speedtest_output, './tmp/rpi_data_test')"
   ]
  },
  {
   "cell_type": "code",
   "execution_count": 14,
   "metadata": {},
   "outputs": [
    {
     "name": "stdout",
     "output_type": "stream",
     "text": [
      "b'Ping:', b'7.571', b'ms', b'Download:', b'158.25', b'Mbit/s', b'Upload:', b'161.68', b'Mbit/s', 2021-03-12 19:52:55\n",
      "\n",
      "b'Ping:', b'7.959', b'ms', b'Download:', b'406.27', b'Mbit/s', b'Upload:', b'149.04', b'Mbit/s', 2021-03-12 19:53:16\n",
      "\n",
      "b'Ping:', b'6.057', b'ms', b'Download:', b'22.22', b'Mbit/s', b'Upload:', b'0.00', b'Mbit/s', 2021-03-12 19:53:34\n",
      "\n",
      "b'Ping:', b'8.666', b'ms', b'Download:', b'357.56', b'Mbit/s', b'Upload:', b'216.94', b'Mbit/s', 2021-03-12 19:53:58\n",
      "\n",
      "b'Ping:', b'6.649', b'ms', b'Download:', b'360.77', b'Mbit/s', b'Upload:', b'218.51', b'Mbit/s', 2021-03-12 19:54:25\n",
      "\n",
      "b'Ping:', b'8.129', b'ms', b'Download:', b'101.38', b'Mbit/s', b'Upload:', b'0.00', b'Mbit/s', 2021-03-12 20:24:10\n",
      "\n",
      "2021-03-12 20:24:41\n",
      "\n",
      "b'Ping:', b'7.93', b'ms', b'Download:', b'275.91', b'Mbit/s', b'Upload:', b'215.11', b'Mbit/s', 2021-03-12 20:24:53\n",
      "\n",
      "b'Ping:', b'6.009', b'ms', b'Download:', b'390.30', b'Mbit/s', b'Upload:', b'219.69', b'Mbit/s', 2021-03-12 20:25:11\n",
      "\n",
      "b'Ping:', b'7.555', b'ms', b'Download:', b'343.87', b'Mbit/s', b'Upload:', b'128.83', b'Mbit/s', 2021-03-12 20:25:28\n",
      "\n"
     ]
    }
   ],
   "source": [
    "print_from_csv('./tmp/rpi_data_test')"
   ]
  },
  {
   "cell_type": "code",
   "execution_count": 15,
   "metadata": {},
   "outputs": [
    {
     "name": "stdout",
     "output_type": "stream",
     "text": [
      "Test number: 0\n",
      "[b'Ping:', b'7.665', b'ms', b'Download:', b'203.62', b'Mbit/s', b'Upload:', b'210.18', b'Mbit/s', '2021-03-12 20:25:49']\n",
      "Test number: 1\n",
      "[b'Ping:', b'6.495', b'ms', b'Download:', b'366.05', b'Mbit/s', b'Upload:', b'157.37', b'Mbit/s', '2021-03-12 20:26:07']\n",
      "Test number: 2\n",
      "[b'Ping:', b'6.758', b'ms', b'Download:', b'365.54', b'Mbit/s', b'Upload:', b'230.99', b'Mbit/s', '2021-03-12 20:26:26']\n",
      "Test number: 3\n",
      "[b'Ping:', b'6.219', b'ms', b'Download:', b'188.47', b'Mbit/s', b'Upload:', b'129.02', b'Mbit/s', '2021-03-12 20:26:43']\n",
      "Test number: 4\n",
      "[b'Ping:', b'8.503', b'ms', b'Download:', b'321.02', b'Mbit/s', b'Upload:', b'162.18', b'Mbit/s', '2021-03-12 20:27:05']\n",
      "Test number: 5\n",
      "[b'Ping:', b'5.669', b'ms', b'Download:', b'212.60', b'Mbit/s', b'Upload:', b'157.77', b'Mbit/s', '2021-03-12 20:27:25']\n",
      "Test number: 6\n",
      "[b'Ping:', b'6.524', b'ms', b'Download:', b'416.68', b'Mbit/s', b'Upload:', b'186.63', b'Mbit/s', '2021-03-12 20:27:45']\n",
      "Test number: 7\n",
      "[b'Ping:', b'10.478', b'ms', b'Download:', b'339.88', b'Mbit/s', b'Upload:', b'218.87', b'Mbit/s', '2021-03-12 20:28:02']\n",
      "Test number: 8\n",
      "[b'Ping:', b'8.307', b'ms', b'Download:', b'400.13', b'Mbit/s', b'Upload:', b'221.39', b'Mbit/s', '2021-03-12 20:28:19']\n",
      "Test number: 9\n",
      "[b'Ping:', b'7.489', b'ms', b'Download:', b'53.58', b'Mbit/s', b'Upload:', b'0.00', b'Mbit/s', '2021-03-12 20:28:35']\n",
      "Test number: 10\n",
      "[b'Ping:', b'7.844', b'ms', b'Download:', b'263.43', b'Mbit/s', b'Upload:', b'140.19', b'Mbit/s', '2021-03-12 20:29:02']\n",
      "Test number: 11\n",
      "[b'Ping:', b'5.916', b'ms', b'Download:', b'216.87', b'Mbit/s', b'Upload:', b'161.91', b'Mbit/s', '2021-03-12 20:29:32']\n",
      "Test number: 12\n",
      "[b'Ping:', b'4.447', b'ms', b'Download:', b'378.54', b'Mbit/s', b'Upload:', b'210.73', b'Mbit/s', '2021-03-12 20:29:52']\n",
      "Test number: 13\n",
      "['2021-03-12 20:30:09']\n",
      "Test number: 14\n",
      "[b'Ping:', b'9.862', b'ms', b'Download:', b'122.71', b'Mbit/s', b'Upload:', b'174.69', b'Mbit/s', '2021-03-12 20:30:13']\n",
      "Test number: 15\n",
      "[b'Ping:', b'6.606', b'ms', b'Download:', b'157.21', b'Mbit/s', b'Upload:', b'177.21', b'Mbit/s', '2021-03-12 20:30:33']\n",
      "Test number: 16\n",
      "[b'Ping:', b'7.991', b'ms', b'Download:', b'152.43', b'Mbit/s', b'Upload:', b'179.18', b'Mbit/s', '2021-03-12 20:30:53']\n",
      "Test number: 17\n",
      "[b'Ping:', b'11.096', b'ms', b'Download:', b'73.69', b'Mbit/s', b'Upload:', b'179.01', b'Mbit/s', '2021-03-12 20:31:13']\n",
      "Test number: 18\n",
      "[b'Ping:', b'7.675', b'ms', b'Download:', b'130.13', b'Mbit/s', b'Upload:', b'148.39', b'Mbit/s', '2021-03-12 20:31:33']\n",
      "Test number: 19\n",
      "[b'Ping:', b'7.232', b'ms', b'Download:', b'143.25', b'Mbit/s', b'Upload:', b'150.31', b'Mbit/s', '2021-03-12 20:31:54']\n",
      "Test number: 20\n",
      "[b'Ping:', b'10.735', b'ms', b'Download:', b'149.84', b'Mbit/s', b'Upload:', b'156.96', b'Mbit/s', '2021-03-12 20:32:15']\n",
      "Test number: 21\n",
      "[b'Ping:', b'9.547', b'ms', b'Download:', b'144.86', b'Mbit/s', b'Upload:', b'164.89', b'Mbit/s', '2021-03-12 20:32:36']\n",
      "Test number: 22\n",
      "[b'Ping:', b'7.353', b'ms', b'Download:', b'147.13', b'Mbit/s', b'Upload:', b'182.22', b'Mbit/s', '2021-03-12 20:32:57']\n",
      "Test number: 23\n",
      "[b'Ping:', b'11.326', b'ms', b'Download:', b'19.93', b'Mbit/s', b'Upload:', b'0.00', b'Mbit/s', '2021-03-12 20:33:16']\n",
      "Test number: 24\n",
      "['2021-03-12 20:33:42']\n",
      "Test number: 25\n",
      "['2021-03-12 20:33:49']\n",
      "Test number: 26\n",
      "['2021-03-12 20:33:49']\n",
      "Test number: 27\n",
      "['2021-03-12 20:33:50']\n",
      "Test number: 28\n",
      "['2021-03-12 20:33:50']\n",
      "Test number: 29\n",
      "['2021-03-12 20:33:51']\n"
     ]
    }
   ],
   "source": [
    "# Code to run 30 times\n",
    "for i in range(30):\n",
    "    speedtest_output = speedtest()\n",
    "    print ('Test number: {}'.format(i))\n",
    "    print (speedtest_output)\n",
    "    save_to_csv(speedtest_output, './tmp/rpi_data')"
   ]
  },
  {
   "cell_type": "code",
   "execution_count": 16,
   "metadata": {},
   "outputs": [],
   "source": [
    "import datetime\n",
    "import csv\n",
    "import pandas as pd\n",
    "# NumPy is a library that adds support for large, multi-dimensional arrays and matrices\n",
    "# along with high-level mathematical functions to operate on these arrays\n",
    "import numpy as np"
   ]
  },
  {
   "cell_type": "code",
   "execution_count": 17,
   "metadata": {},
   "outputs": [],
   "source": [
    "data_file = './Data/rpi_data_long.csv'\n",
    "column_names = [ 'Type A', 'Measure A', 'Units A',\n",
    "                 'Type B', 'Measure B', 'Units B',\n",
    "                 'Type C', 'Measure C', 'Units C', \n",
    "                 'Datetime']"
   ]
  },
  {
   "cell_type": "code",
   "execution_count": 18,
   "metadata": {},
   "outputs": [],
   "source": [
    "with open(data_file, 'r') as f:\n",
    "    df_redundant = pd.read_csv(f, names = column_names)"
   ]
  },
  {
   "cell_type": "code",
   "execution_count": 20,
   "metadata": {},
   "outputs": [
    {
     "data": {
      "text/html": [
       "<div>\n",
       "<style scoped>\n",
       "    .dataframe tbody tr th:only-of-type {\n",
       "        vertical-align: middle;\n",
       "    }\n",
       "\n",
       "    .dataframe tbody tr th {\n",
       "        vertical-align: top;\n",
       "    }\n",
       "\n",
       "    .dataframe thead th {\n",
       "        text-align: right;\n",
       "    }\n",
       "</style>\n",
       "<table border=\"1\" class=\"dataframe\">\n",
       "  <thead>\n",
       "    <tr style=\"text-align: right;\">\n",
       "      <th></th>\n",
       "      <th>Type A</th>\n",
       "      <th>Measure A</th>\n",
       "      <th>Units A</th>\n",
       "      <th>Type B</th>\n",
       "      <th>Measure B</th>\n",
       "      <th>Units B</th>\n",
       "      <th>Type C</th>\n",
       "      <th>Measure C</th>\n",
       "      <th>Units C</th>\n",
       "      <th>Datetime</th>\n",
       "    </tr>\n",
       "  </thead>\n",
       "  <tbody>\n",
       "    <tr>\n",
       "      <th>0</th>\n",
       "      <td>Ping:</td>\n",
       "      <td>26.992</td>\n",
       "      <td>ms</td>\n",
       "      <td>Download:</td>\n",
       "      <td>91.80</td>\n",
       "      <td>Mbit/s</td>\n",
       "      <td>Upload:</td>\n",
       "      <td>14.31</td>\n",
       "      <td>Mbit/s</td>\n",
       "      <td>2016-11-24 13:36:25</td>\n",
       "    </tr>\n",
       "    <tr>\n",
       "      <th>1</th>\n",
       "      <td>Ping:</td>\n",
       "      <td>24.532</td>\n",
       "      <td>ms</td>\n",
       "      <td>Download:</td>\n",
       "      <td>88.19</td>\n",
       "      <td>Mbit/s</td>\n",
       "      <td>Upload:</td>\n",
       "      <td>14.12</td>\n",
       "      <td>Mbit/s</td>\n",
       "      <td>2016-11-24 13:36:55</td>\n",
       "    </tr>\n",
       "    <tr>\n",
       "      <th>2</th>\n",
       "      <td>Ping:</td>\n",
       "      <td>20.225</td>\n",
       "      <td>ms</td>\n",
       "      <td>Download:</td>\n",
       "      <td>59.86</td>\n",
       "      <td>Mbit/s</td>\n",
       "      <td>Upload:</td>\n",
       "      <td>14.11</td>\n",
       "      <td>Mbit/s</td>\n",
       "      <td>2016-11-24 13:37:25</td>\n",
       "    </tr>\n",
       "    <tr>\n",
       "      <th>3</th>\n",
       "      <td>Ping:</td>\n",
       "      <td>19.332</td>\n",
       "      <td>ms</td>\n",
       "      <td>Download:</td>\n",
       "      <td>91.81</td>\n",
       "      <td>Mbit/s</td>\n",
       "      <td>Upload:</td>\n",
       "      <td>14.22</td>\n",
       "      <td>Mbit/s</td>\n",
       "      <td>2016-11-24 13:37:57</td>\n",
       "    </tr>\n",
       "    <tr>\n",
       "      <th>4</th>\n",
       "      <td>Ping:</td>\n",
       "      <td>22.494</td>\n",
       "      <td>ms</td>\n",
       "      <td>Download:</td>\n",
       "      <td>92.05</td>\n",
       "      <td>Mbit/s</td>\n",
       "      <td>Upload:</td>\n",
       "      <td>14.08</td>\n",
       "      <td>Mbit/s</td>\n",
       "      <td>2016-11-24 13:38:27</td>\n",
       "    </tr>\n",
       "    <tr>\n",
       "      <th>5</th>\n",
       "      <td>Ping:</td>\n",
       "      <td>17.586</td>\n",
       "      <td>ms</td>\n",
       "      <td>Download:</td>\n",
       "      <td>91.88</td>\n",
       "      <td>Mbit/s</td>\n",
       "      <td>Upload:</td>\n",
       "      <td>14.18</td>\n",
       "      <td>Mbit/s</td>\n",
       "      <td>2016-11-24 13:39:01</td>\n",
       "    </tr>\n",
       "    <tr>\n",
       "      <th>6</th>\n",
       "      <td>Ping:</td>\n",
       "      <td>21.835</td>\n",
       "      <td>ms</td>\n",
       "      <td>Download:</td>\n",
       "      <td>92.18</td>\n",
       "      <td>Mbit/s</td>\n",
       "      <td>Upload:</td>\n",
       "      <td>14.07</td>\n",
       "      <td>Mbit/s</td>\n",
       "      <td>2016-11-24 13:39:30</td>\n",
       "    </tr>\n",
       "    <tr>\n",
       "      <th>7</th>\n",
       "      <td>Ping:</td>\n",
       "      <td>20.464</td>\n",
       "      <td>ms</td>\n",
       "      <td>Download:</td>\n",
       "      <td>92.05</td>\n",
       "      <td>Mbit/s</td>\n",
       "      <td>Upload:</td>\n",
       "      <td>14.13</td>\n",
       "      <td>Mbit/s</td>\n",
       "      <td>2016-11-24 13:40:00</td>\n",
       "    </tr>\n",
       "    <tr>\n",
       "      <th>8</th>\n",
       "      <td>Ping:</td>\n",
       "      <td>19.293</td>\n",
       "      <td>ms</td>\n",
       "      <td>Download:</td>\n",
       "      <td>90.79</td>\n",
       "      <td>Mbit/s</td>\n",
       "      <td>Upload:</td>\n",
       "      <td>14.14</td>\n",
       "      <td>Mbit/s</td>\n",
       "      <td>2016-11-24 13:40:30</td>\n",
       "    </tr>\n",
       "    <tr>\n",
       "      <th>9</th>\n",
       "      <td>Ping:</td>\n",
       "      <td>20.354</td>\n",
       "      <td>ms</td>\n",
       "      <td>Download:</td>\n",
       "      <td>92.64</td>\n",
       "      <td>Mbit/s</td>\n",
       "      <td>Upload:</td>\n",
       "      <td>14.07</td>\n",
       "      <td>Mbit/s</td>\n",
       "      <td>2016-11-24 13:41:00</td>\n",
       "    </tr>\n",
       "    <tr>\n",
       "      <th>10</th>\n",
       "      <td>Ping:</td>\n",
       "      <td>19.01</td>\n",
       "      <td>ms</td>\n",
       "      <td>Download:</td>\n",
       "      <td>91.86</td>\n",
       "      <td>Mbit/s</td>\n",
       "      <td>Upload:</td>\n",
       "      <td>14.38</td>\n",
       "      <td>Mbit/s</td>\n",
       "      <td>2016-11-24 13:41:30</td>\n",
       "    </tr>\n",
       "    <tr>\n",
       "      <th>11</th>\n",
       "      <td>Ping:</td>\n",
       "      <td>18.092</td>\n",
       "      <td>ms</td>\n",
       "      <td>Download:</td>\n",
       "      <td>92.24</td>\n",
       "      <td>Mbit/s</td>\n",
       "      <td>Upload:</td>\n",
       "      <td>14.23</td>\n",
       "      <td>Mbit/s</td>\n",
       "      <td>2016-11-24 13:42:00</td>\n",
       "    </tr>\n",
       "    <tr>\n",
       "      <th>12</th>\n",
       "      <td>Ping:</td>\n",
       "      <td>18.137</td>\n",
       "      <td>ms</td>\n",
       "      <td>Download:</td>\n",
       "      <td>91.64</td>\n",
       "      <td>Mbit/s</td>\n",
       "      <td>Upload:</td>\n",
       "      <td>14.32</td>\n",
       "      <td>Mbit/s</td>\n",
       "      <td>2016-11-24 13:42:30</td>\n",
       "    </tr>\n",
       "    <tr>\n",
       "      <th>13</th>\n",
       "      <td>Ping:</td>\n",
       "      <td>18.344</td>\n",
       "      <td>ms</td>\n",
       "      <td>Download:</td>\n",
       "      <td>92.85</td>\n",
       "      <td>Mbit/s</td>\n",
       "      <td>Upload:</td>\n",
       "      <td>14.20</td>\n",
       "      <td>Mbit/s</td>\n",
       "      <td>2016-11-24 13:43:00</td>\n",
       "    </tr>\n",
       "    <tr>\n",
       "      <th>14</th>\n",
       "      <td>Ping:</td>\n",
       "      <td>23.328</td>\n",
       "      <td>ms</td>\n",
       "      <td>Download:</td>\n",
       "      <td>92.21</td>\n",
       "      <td>Mbit/s</td>\n",
       "      <td>Upload:</td>\n",
       "      <td>14.20</td>\n",
       "      <td>Mbit/s</td>\n",
       "      <td>2016-11-24 13:43:29</td>\n",
       "    </tr>\n",
       "    <tr>\n",
       "      <th>15</th>\n",
       "      <td>Ping:</td>\n",
       "      <td>17.908</td>\n",
       "      <td>ms</td>\n",
       "      <td>Download:</td>\n",
       "      <td>92.24</td>\n",
       "      <td>Mbit/s</td>\n",
       "      <td>Upload:</td>\n",
       "      <td>11.36</td>\n",
       "      <td>Mbit/s</td>\n",
       "      <td>2016-11-24 13:43:59</td>\n",
       "    </tr>\n",
       "    <tr>\n",
       "      <th>16</th>\n",
       "      <td>Ping:</td>\n",
       "      <td>19.291</td>\n",
       "      <td>ms</td>\n",
       "      <td>Download:</td>\n",
       "      <td>92.41</td>\n",
       "      <td>Mbit/s</td>\n",
       "      <td>Upload:</td>\n",
       "      <td>14.03</td>\n",
       "      <td>Mbit/s</td>\n",
       "      <td>2016-11-24 13:44:31</td>\n",
       "    </tr>\n",
       "    <tr>\n",
       "      <th>17</th>\n",
       "      <td>Ping:</td>\n",
       "      <td>20.117</td>\n",
       "      <td>ms</td>\n",
       "      <td>Download:</td>\n",
       "      <td>90.39</td>\n",
       "      <td>Mbit/s</td>\n",
       "      <td>Upload:</td>\n",
       "      <td>14.17</td>\n",
       "      <td>Mbit/s</td>\n",
       "      <td>2016-11-24 13:45:01</td>\n",
       "    </tr>\n",
       "    <tr>\n",
       "      <th>18</th>\n",
       "      <td>Ping:</td>\n",
       "      <td>19.579</td>\n",
       "      <td>ms</td>\n",
       "      <td>Download:</td>\n",
       "      <td>92.55</td>\n",
       "      <td>Mbit/s</td>\n",
       "      <td>Upload:</td>\n",
       "      <td>14.06</td>\n",
       "      <td>Mbit/s</td>\n",
       "      <td>2016-11-24 13:45:32</td>\n",
       "    </tr>\n",
       "    <tr>\n",
       "      <th>19</th>\n",
       "      <td>Ping:</td>\n",
       "      <td>16.364</td>\n",
       "      <td>ms</td>\n",
       "      <td>Download:</td>\n",
       "      <td>78.51</td>\n",
       "      <td>Mbit/s</td>\n",
       "      <td>Upload:</td>\n",
       "      <td>13.71</td>\n",
       "      <td>Mbit/s</td>\n",
       "      <td>2016-11-24 13:46:02</td>\n",
       "    </tr>\n",
       "  </tbody>\n",
       "</table>\n",
       "</div>"
      ],
      "text/plain": [
       "   Type A Measure A Units A     Type B Measure B Units B   Type C  Measure C  \\\n",
       "0   Ping:    26.992      ms  Download:     91.80  Mbit/s  Upload:      14.31   \n",
       "1   Ping:    24.532      ms  Download:     88.19  Mbit/s  Upload:      14.12   \n",
       "2   Ping:    20.225      ms  Download:     59.86  Mbit/s  Upload:      14.11   \n",
       "3   Ping:    19.332      ms  Download:     91.81  Mbit/s  Upload:      14.22   \n",
       "4   Ping:    22.494      ms  Download:     92.05  Mbit/s  Upload:      14.08   \n",
       "5   Ping:    17.586      ms  Download:     91.88  Mbit/s  Upload:      14.18   \n",
       "6   Ping:    21.835      ms  Download:     92.18  Mbit/s  Upload:      14.07   \n",
       "7   Ping:    20.464      ms  Download:     92.05  Mbit/s  Upload:      14.13   \n",
       "8   Ping:    19.293      ms  Download:     90.79  Mbit/s  Upload:      14.14   \n",
       "9   Ping:    20.354      ms  Download:     92.64  Mbit/s  Upload:      14.07   \n",
       "10  Ping:     19.01      ms  Download:     91.86  Mbit/s  Upload:      14.38   \n",
       "11  Ping:    18.092      ms  Download:     92.24  Mbit/s  Upload:      14.23   \n",
       "12  Ping:    18.137      ms  Download:     91.64  Mbit/s  Upload:      14.32   \n",
       "13  Ping:    18.344      ms  Download:     92.85  Mbit/s  Upload:      14.20   \n",
       "14  Ping:    23.328      ms  Download:     92.21  Mbit/s  Upload:      14.20   \n",
       "15  Ping:    17.908      ms  Download:     92.24  Mbit/s  Upload:      11.36   \n",
       "16  Ping:    19.291      ms  Download:     92.41  Mbit/s  Upload:      14.03   \n",
       "17  Ping:    20.117      ms  Download:     90.39  Mbit/s  Upload:      14.17   \n",
       "18  Ping:    19.579      ms  Download:     92.55  Mbit/s  Upload:      14.06   \n",
       "19  Ping:    16.364      ms  Download:     78.51  Mbit/s  Upload:      13.71   \n",
       "\n",
       "   Units C             Datetime  \n",
       "0   Mbit/s  2016-11-24 13:36:25  \n",
       "1   Mbit/s  2016-11-24 13:36:55  \n",
       "2   Mbit/s  2016-11-24 13:37:25  \n",
       "3   Mbit/s  2016-11-24 13:37:57  \n",
       "4   Mbit/s  2016-11-24 13:38:27  \n",
       "5   Mbit/s  2016-11-24 13:39:01  \n",
       "6   Mbit/s  2016-11-24 13:39:30  \n",
       "7   Mbit/s  2016-11-24 13:40:00  \n",
       "8   Mbit/s  2016-11-24 13:40:30  \n",
       "9   Mbit/s  2016-11-24 13:41:00  \n",
       "10  Mbit/s  2016-11-24 13:41:30  \n",
       "11  Mbit/s  2016-11-24 13:42:00  \n",
       "12  Mbit/s  2016-11-24 13:42:30  \n",
       "13  Mbit/s  2016-11-24 13:43:00  \n",
       "14  Mbit/s  2016-11-24 13:43:29  \n",
       "15  Mbit/s  2016-11-24 13:43:59  \n",
       "16  Mbit/s  2016-11-24 13:44:31  \n",
       "17  Mbit/s  2016-11-24 13:45:01  \n",
       "18  Mbit/s  2016-11-24 13:45:32  \n",
       "19  Mbit/s  2016-11-24 13:46:02  "
      ]
     },
     "execution_count": 20,
     "metadata": {},
     "output_type": "execute_result"
    }
   ],
   "source": [
    "df_redundant.head(20)"
   ]
  },
  {
   "cell_type": "code",
   "execution_count": 21,
   "metadata": {},
   "outputs": [],
   "source": [
    "df_compact = df_redundant.copy()"
   ]
  },
  {
   "cell_type": "code",
   "execution_count": 22,
   "metadata": {},
   "outputs": [
    {
     "data": {
      "text/html": [
       "<div>\n",
       "<style scoped>\n",
       "    .dataframe tbody tr th:only-of-type {\n",
       "        vertical-align: middle;\n",
       "    }\n",
       "\n",
       "    .dataframe tbody tr th {\n",
       "        vertical-align: top;\n",
       "    }\n",
       "\n",
       "    .dataframe thead th {\n",
       "        text-align: right;\n",
       "    }\n",
       "</style>\n",
       "<table border=\"1\" class=\"dataframe\">\n",
       "  <thead>\n",
       "    <tr style=\"text-align: right;\">\n",
       "      <th></th>\n",
       "      <th>Type A</th>\n",
       "      <th>Ping (ms)</th>\n",
       "      <th>Units A</th>\n",
       "      <th>Type B</th>\n",
       "      <th>Download (Mbit/s)</th>\n",
       "      <th>Units B</th>\n",
       "      <th>Type C</th>\n",
       "      <th>Upload (Mbit/s)</th>\n",
       "      <th>Units C</th>\n",
       "      <th>Datetime</th>\n",
       "    </tr>\n",
       "  </thead>\n",
       "  <tbody>\n",
       "    <tr>\n",
       "      <th>0</th>\n",
       "      <td>Ping:</td>\n",
       "      <td>26.992</td>\n",
       "      <td>ms</td>\n",
       "      <td>Download:</td>\n",
       "      <td>91.80</td>\n",
       "      <td>Mbit/s</td>\n",
       "      <td>Upload:</td>\n",
       "      <td>14.31</td>\n",
       "      <td>Mbit/s</td>\n",
       "      <td>2016-11-24 13:36:25</td>\n",
       "    </tr>\n",
       "    <tr>\n",
       "      <th>1</th>\n",
       "      <td>Ping:</td>\n",
       "      <td>24.532</td>\n",
       "      <td>ms</td>\n",
       "      <td>Download:</td>\n",
       "      <td>88.19</td>\n",
       "      <td>Mbit/s</td>\n",
       "      <td>Upload:</td>\n",
       "      <td>14.12</td>\n",
       "      <td>Mbit/s</td>\n",
       "      <td>2016-11-24 13:36:55</td>\n",
       "    </tr>\n",
       "    <tr>\n",
       "      <th>2</th>\n",
       "      <td>Ping:</td>\n",
       "      <td>20.225</td>\n",
       "      <td>ms</td>\n",
       "      <td>Download:</td>\n",
       "      <td>59.86</td>\n",
       "      <td>Mbit/s</td>\n",
       "      <td>Upload:</td>\n",
       "      <td>14.11</td>\n",
       "      <td>Mbit/s</td>\n",
       "      <td>2016-11-24 13:37:25</td>\n",
       "    </tr>\n",
       "  </tbody>\n",
       "</table>\n",
       "</div>"
      ],
      "text/plain": [
       "  Type A Ping (ms) Units A     Type B Download (Mbit/s) Units B   Type C  \\\n",
       "0  Ping:    26.992      ms  Download:             91.80  Mbit/s  Upload:   \n",
       "1  Ping:    24.532      ms  Download:             88.19  Mbit/s  Upload:   \n",
       "2  Ping:    20.225      ms  Download:             59.86  Mbit/s  Upload:   \n",
       "\n",
       "   Upload (Mbit/s) Units C             Datetime  \n",
       "0            14.31  Mbit/s  2016-11-24 13:36:25  \n",
       "1            14.12  Mbit/s  2016-11-24 13:36:55  \n",
       "2            14.11  Mbit/s  2016-11-24 13:37:25  "
      ]
     },
     "execution_count": 22,
     "metadata": {},
     "output_type": "execute_result"
    }
   ],
   "source": [
    "df_compact.rename(columns={'Measure A':'Ping (ms)', \n",
    "                           'Measure B': 'Download (Mbit/s)',\n",
    "                           'Measure C': 'Upload (Mbit/s)'}, inplace=True)\n",
    "df_compact.head(3)"
   ]
  },
  {
   "cell_type": "code",
   "execution_count": 23,
   "metadata": {},
   "outputs": [
    {
     "data": {
      "text/html": [
       "<div>\n",
       "<style scoped>\n",
       "    .dataframe tbody tr th:only-of-type {\n",
       "        vertical-align: middle;\n",
       "    }\n",
       "\n",
       "    .dataframe tbody tr th {\n",
       "        vertical-align: top;\n",
       "    }\n",
       "\n",
       "    .dataframe thead th {\n",
       "        text-align: right;\n",
       "    }\n",
       "</style>\n",
       "<table border=\"1\" class=\"dataframe\">\n",
       "  <thead>\n",
       "    <tr style=\"text-align: right;\">\n",
       "      <th></th>\n",
       "      <th>Ping (ms)</th>\n",
       "      <th>Download (Mbit/s)</th>\n",
       "      <th>Upload (Mbit/s)</th>\n",
       "      <th>Datetime</th>\n",
       "    </tr>\n",
       "  </thead>\n",
       "  <tbody>\n",
       "    <tr>\n",
       "      <th>0</th>\n",
       "      <td>26.992</td>\n",
       "      <td>91.80</td>\n",
       "      <td>14.31</td>\n",
       "      <td>2016-11-24 13:36:25</td>\n",
       "    </tr>\n",
       "    <tr>\n",
       "      <th>1</th>\n",
       "      <td>24.532</td>\n",
       "      <td>88.19</td>\n",
       "      <td>14.12</td>\n",
       "      <td>2016-11-24 13:36:55</td>\n",
       "    </tr>\n",
       "    <tr>\n",
       "      <th>2</th>\n",
       "      <td>20.225</td>\n",
       "      <td>59.86</td>\n",
       "      <td>14.11</td>\n",
       "      <td>2016-11-24 13:37:25</td>\n",
       "    </tr>\n",
       "    <tr>\n",
       "      <th>3</th>\n",
       "      <td>19.332</td>\n",
       "      <td>91.81</td>\n",
       "      <td>14.22</td>\n",
       "      <td>2016-11-24 13:37:57</td>\n",
       "    </tr>\n",
       "    <tr>\n",
       "      <th>4</th>\n",
       "      <td>22.494</td>\n",
       "      <td>92.05</td>\n",
       "      <td>14.08</td>\n",
       "      <td>2016-11-24 13:38:27</td>\n",
       "    </tr>\n",
       "  </tbody>\n",
       "</table>\n",
       "</div>"
      ],
      "text/plain": [
       "  Ping (ms) Download (Mbit/s)  Upload (Mbit/s)             Datetime\n",
       "0    26.992             91.80            14.31  2016-11-24 13:36:25\n",
       "1    24.532             88.19            14.12  2016-11-24 13:36:55\n",
       "2    20.225             59.86            14.11  2016-11-24 13:37:25\n",
       "3    19.332             91.81            14.22  2016-11-24 13:37:57\n",
       "4    22.494             92.05            14.08  2016-11-24 13:38:27"
      ]
     },
     "execution_count": 23,
     "metadata": {},
     "output_type": "execute_result"
    }
   ],
   "source": [
    "df_compact.drop(['Type A', 'Type B', 'Type C',\n",
    "         'Units A', 'Units B', 'Units C'], axis=1, inplace=True)\n",
    "df_compact.head()"
   ]
  },
  {
   "cell_type": "code",
   "execution_count": 24,
   "metadata": {},
   "outputs": [],
   "source": [
    "df_compact['Date'] = df_compact['Datetime'].apply(lambda dt_str: pd.to_datetime(dt_str).date())"
   ]
  },
  {
   "cell_type": "code",
   "execution_count": 25,
   "metadata": {},
   "outputs": [],
   "source": [
    "temp = df_compact['Datetime'].apply(lambda dt_str: pd.to_datetime(dt_str))\n",
    "df_compact['Time'] = temp.dt.time"
   ]
  },
  {
   "cell_type": "code",
   "execution_count": 28,
   "metadata": {},
   "outputs": [],
   "source": [
    "df_compact.drop(['Datetime'], axis=1, inplace=True)"
   ]
  },
  {
   "cell_type": "code",
   "execution_count": 29,
   "metadata": {},
   "outputs": [
    {
     "data": {
      "text/html": [
       "<div>\n",
       "<style scoped>\n",
       "    .dataframe tbody tr th:only-of-type {\n",
       "        vertical-align: middle;\n",
       "    }\n",
       "\n",
       "    .dataframe tbody tr th {\n",
       "        vertical-align: top;\n",
       "    }\n",
       "\n",
       "    .dataframe thead th {\n",
       "        text-align: right;\n",
       "    }\n",
       "</style>\n",
       "<table border=\"1\" class=\"dataframe\">\n",
       "  <thead>\n",
       "    <tr style=\"text-align: right;\">\n",
       "      <th></th>\n",
       "      <th>Ping (ms)</th>\n",
       "      <th>Download (Mbit/s)</th>\n",
       "      <th>Upload (Mbit/s)</th>\n",
       "      <th>Date</th>\n",
       "      <th>Time</th>\n",
       "    </tr>\n",
       "  </thead>\n",
       "  <tbody>\n",
       "    <tr>\n",
       "      <th>0</th>\n",
       "      <td>26.992</td>\n",
       "      <td>91.80</td>\n",
       "      <td>14.31</td>\n",
       "      <td>2016-11-24</td>\n",
       "      <td>13:36:25</td>\n",
       "    </tr>\n",
       "    <tr>\n",
       "      <th>1</th>\n",
       "      <td>24.532</td>\n",
       "      <td>88.19</td>\n",
       "      <td>14.12</td>\n",
       "      <td>2016-11-24</td>\n",
       "      <td>13:36:55</td>\n",
       "    </tr>\n",
       "    <tr>\n",
       "      <th>2</th>\n",
       "      <td>20.225</td>\n",
       "      <td>59.86</td>\n",
       "      <td>14.11</td>\n",
       "      <td>2016-11-24</td>\n",
       "      <td>13:37:25</td>\n",
       "    </tr>\n",
       "  </tbody>\n",
       "</table>\n",
       "</div>"
      ],
      "text/plain": [
       "  Ping (ms) Download (Mbit/s)  Upload (Mbit/s)        Date      Time\n",
       "0    26.992             91.80            14.31  2016-11-24  13:36:25\n",
       "1    24.532             88.19            14.12  2016-11-24  13:36:55\n",
       "2    20.225             59.86            14.11  2016-11-24  13:37:25"
      ]
     },
     "execution_count": 29,
     "metadata": {},
     "output_type": "execute_result"
    }
   ],
   "source": [
    "df_compact.head(3)"
   ]
  },
  {
   "cell_type": "code",
   "execution_count": 30,
   "metadata": {},
   "outputs": [
    {
     "name": "stdout",
     "output_type": "stream",
     "text": [
      "2016-11-24 <class 'datetime.date'>\n",
      "13:36:25 <class 'datetime.time'>\n"
     ]
    }
   ],
   "source": [
    "print(df_compact['Date'][0], type(df_compact['Date'][0]) )\n",
    "print(df_compact['Time'][0], type(df_compact['Time'][0]) )"
   ]
  },
  {
   "cell_type": "code",
   "execution_count": 31,
   "metadata": {},
   "outputs": [],
   "source": [
    "df_compact.to_csv('./Data/rpi_data_compact.csv')"
   ]
  },
  {
   "cell_type": "code",
   "execution_count": null,
   "metadata": {},
   "outputs": [],
   "source": []
  }
 ],
 "metadata": {
  "kernelspec": {
   "display_name": "Python 3",
   "language": "python",
   "name": "python3"
  },
  "language_info": {
   "codemirror_mode": {
    "name": "ipython",
    "version": 3
   },
   "file_extension": ".py",
   "mimetype": "text/x-python",
   "name": "python",
   "nbconvert_exporter": "python",
   "pygments_lexer": "ipython3",
   "version": "3.8.7"
  }
 },
 "nbformat": 4,
 "nbformat_minor": 4
}
